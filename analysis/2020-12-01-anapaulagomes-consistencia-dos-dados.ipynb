{
 "cells": [
  {
   "cell_type": "markdown",
   "metadata": {},
   "source": [
    "# Investigação da consistência dos dados\n",
    "\n",
    "Ao iniciar uma análise das despesas da pandemia do COVID-19 reparamos que os dados\n",
    "tinham alguns problemas. Algumas entradas estavam duplicadas e outras não batiam.\n",
    "\n",
    "Essa análise visa comparar os dados apresentados no Tribunal de Contas dos Municípios da Bahia\n",
    "(TCM-BA) e o Portal da Transparência da Prefeitura de Feira de Santana.\n",
    "\n",
    "## Dados utilizados\n",
    "\n",
    "Para avaliar os dados escolhemos o mês de Julho de 2020 (escolhemos aleatoriamente mas poderia ser qualquer um)\n",
    "e selecionamos os **pagamentos** da **Prefeitura Municipal de Feira de Santana**.\n",
    "\n",
    "* [Portal da Transparência da Prefeitura de Feira de Santana](http://www.transparencia.feiradesantana.ba.gov.br/index.php?view=despesa)\n",
    "* [Tribunal de Contas dos Municípios da Bahia](https://www.tcm.ba.gov.br/consulta-de-despesas)\n",
    "\n",
    "Exportamos esses dados para XLS e CSV, respectivamente.\n",
    "\n",
    "## Vamos a análise!"
   ]
  },
  {
   "cell_type": "code",
   "execution_count": 6,
   "metadata": {},
   "outputs": [],
   "source": [
    "import pandas as pd\n",
    "\n",
    "\n",
    "cityhall_df = pd.read_excel(\"../prefeitura-despesas-prefeitura-julho-2020.csv.xls\")\n",
    "tcm_df = pd.read_json(\"../tcmba-despesas-prefeitura-julho-2020.json\")"
   ]
  },
  {
   "cell_type": "markdown",
   "metadata": {},
   "source": [
    "Uma amostra dos dados da prefeitura:"
   ]
  },
  {
   "cell_type": "code",
   "execution_count": 10,
   "metadata": {},
   "outputs": [
    {
     "data": {
      "text/html": [
       "<div>\n",
       "<style scoped>\n",
       "    .dataframe tbody tr th:only-of-type {\n",
       "        vertical-align: middle;\n",
       "    }\n",
       "\n",
       "    .dataframe tbody tr th {\n",
       "        vertical-align: top;\n",
       "    }\n",
       "\n",
       "    .dataframe thead th {\n",
       "        text-align: right;\n",
       "    }\n",
       "</style>\n",
       "<table border=\"1\" class=\"dataframe\">\n",
       "  <thead>\n",
       "    <tr style=\"text-align: right;\">\n",
       "      <th></th>\n",
       "      <th>Data de Publicacao</th>\n",
       "      <th>Fase</th>\n",
       "      <th>Numero</th>\n",
       "      <th>N do processo</th>\n",
       "      <th>Bem / Servico Prestado</th>\n",
       "      <th>Credor</th>\n",
       "      <th>CPF / CNPJ</th>\n",
       "      <th>Valor</th>\n",
       "      <th>Funcao</th>\n",
       "      <th>Subfuncao</th>\n",
       "      <th>Natureza</th>\n",
       "      <th>Fonte</th>\n",
       "      <th>Modalidade</th>\n",
       "    </tr>\n",
       "  </thead>\n",
       "  <tbody>\n",
       "    <tr>\n",
       "      <th>1828</th>\n",
       "      <td>10/07/2020</td>\n",
       "      <td>PAGAMENTO</td>\n",
       "      <td>6557</td>\n",
       "      <td></td>\n",
       "      <td>REF SERVICOS DE FORNECIMENTO DE AGUA P/ O ZOON...</td>\n",
       "      <td>EMP BAIANA DE AGUA E SANEAMENTO - EMBASA      ...</td>\n",
       "      <td>13.504.675/0001-10</td>\n",
       "      <td>1.671,53</td>\n",
       "      <td>10 - SAUDE                                    ...</td>\n",
       "      <td>305 - VIGILIANCIA EPIDEMIOLOGICA              ...</td>\n",
       "      <td>339039110000000000 - Servicos de Fornecimnto d...</td>\n",
       "      <td>0002 - REC.IMP.TRANSF.IMP.SAUDE 15            ...</td>\n",
       "      <td>Isento</td>\n",
       "    </tr>\n",
       "    <tr>\n",
       "      <th>1827</th>\n",
       "      <td>10/07/2020</td>\n",
       "      <td>PAGAMENTO</td>\n",
       "      <td>6570</td>\n",
       "      <td></td>\n",
       "      <td>REF SERVICOS DE FORNECIMENTO DE AGUA P/ OS PSF...</td>\n",
       "      <td>EMP BAIANA DE AGUA E SANEAMENTO - EMBASA      ...</td>\n",
       "      <td>13.504.675/0001-10</td>\n",
       "      <td>1.562,40</td>\n",
       "      <td>10 - SAUDE                                    ...</td>\n",
       "      <td>301 - ATENCAO BASICA                          ...</td>\n",
       "      <td>339039110000000000 - Servicos de Fornecimnto d...</td>\n",
       "      <td>0002 - REC.IMP.TRANSF.IMP.SAUDE 15            ...</td>\n",
       "      <td>Isento</td>\n",
       "    </tr>\n",
       "    <tr>\n",
       "      <th>2166</th>\n",
       "      <td>07/07/2020</td>\n",
       "      <td>PAGAMENTO</td>\n",
       "      <td>07989-20</td>\n",
       "      <td></td>\n",
       "      <td>REF A DESPESA COM CONSUMO DE ENERGIA ELETRICA....</td>\n",
       "      <td>COELBA                                        ...</td>\n",
       "      <td>15.139.629/0001-94</td>\n",
       "      <td>1.216,13</td>\n",
       "      <td>04 - ADMINISTRACAO                            ...</td>\n",
       "      <td>122 - ADMINISTRACAO GERAL                     ...</td>\n",
       "      <td>339039100000 - Serviços de Energia Elétrica   ...</td>\n",
       "      <td>0000 - RECURSOS ORDINARIOS                    ...</td>\n",
       "      <td>ISENTO</td>\n",
       "    </tr>\n",
       "  </tbody>\n",
       "</table>\n",
       "</div>"
      ],
      "text/plain": [
       "     Data de Publicacao      Fase                           Numero  \\\n",
       "1828         10/07/2020  PAGAMENTO  6557                             \n",
       "1827         10/07/2020  PAGAMENTO  6570                             \n",
       "2166         07/07/2020  PAGAMENTO  07989-20                         \n",
       "\n",
       "                       N do processo  \\\n",
       "1828                                   \n",
       "1827                                   \n",
       "2166                                   \n",
       "\n",
       "                                 Bem / Servico Prestado  \\\n",
       "1828  REF SERVICOS DE FORNECIMENTO DE AGUA P/ O ZOON...   \n",
       "1827  REF SERVICOS DE FORNECIMENTO DE AGUA P/ OS PSF...   \n",
       "2166  REF A DESPESA COM CONSUMO DE ENERGIA ELETRICA....   \n",
       "\n",
       "                                                 Credor          CPF / CNPJ  \\\n",
       "1828  EMP BAIANA DE AGUA E SANEAMENTO - EMBASA      ...  13.504.675/0001-10   \n",
       "1827  EMP BAIANA DE AGUA E SANEAMENTO - EMBASA      ...  13.504.675/0001-10   \n",
       "2166  COELBA                                        ...  15.139.629/0001-94   \n",
       "\n",
       "              Valor                                             Funcao  \\\n",
       "1828       1.671,53  10 - SAUDE                                    ...   \n",
       "1827       1.562,40  10 - SAUDE                                    ...   \n",
       "2166       1.216,13  04 - ADMINISTRACAO                            ...   \n",
       "\n",
       "                                              Subfuncao  \\\n",
       "1828  305 - VIGILIANCIA EPIDEMIOLOGICA              ...   \n",
       "1827  301 - ATENCAO BASICA                          ...   \n",
       "2166  122 - ADMINISTRACAO GERAL                     ...   \n",
       "\n",
       "                                               Natureza  \\\n",
       "1828  339039110000000000 - Servicos de Fornecimnto d...   \n",
       "1827  339039110000000000 - Servicos de Fornecimnto d...   \n",
       "2166  339039100000 - Serviços de Energia Elétrica   ...   \n",
       "\n",
       "                                                  Fonte  \\\n",
       "1828  0002 - REC.IMP.TRANSF.IMP.SAUDE 15            ...   \n",
       "1827  0002 - REC.IMP.TRANSF.IMP.SAUDE 15            ...   \n",
       "2166  0000 - RECURSOS ORDINARIOS                    ...   \n",
       "\n",
       "                          Modalidade  \n",
       "1828  Isento                          \n",
       "1827  Isento                          \n",
       "2166  ISENTO                          "
      ]
     },
     "execution_count": 10,
     "metadata": {},
     "output_type": "execute_result"
    }
   ],
   "source": [
    "cityhall_df.sample(3)"
   ]
  },
  {
   "cell_type": "code",
   "execution_count": 17,
   "metadata": {},
   "outputs": [
    {
     "data": {
      "text/plain": [
       "(2721, 13)"
      ]
     },
     "execution_count": 17,
     "metadata": {},
     "output_type": "execute_result"
    }
   ],
   "source": [
    "cityhall_df.shape"
   ]
  },
  {
   "cell_type": "markdown",
   "metadata": {},
   "source": [
    "Uma amostra dos dados do TCM-BA:"
   ]
  },
  {
   "cell_type": "code",
   "execution_count": 9,
   "metadata": {},
   "outputs": [
    {
     "data": {
      "text/html": [
       "<div>\n",
       "<style scoped>\n",
       "    .dataframe tbody tr th:only-of-type {\n",
       "        vertical-align: middle;\n",
       "    }\n",
       "\n",
       "    .dataframe tbody tr th {\n",
       "        vertical-align: top;\n",
       "    }\n",
       "\n",
       "    .dataframe thead th {\n",
       "        text-align: right;\n",
       "    }\n",
       "</style>\n",
       "<table border=\"1\" class=\"dataframe\">\n",
       "  <thead>\n",
       "    <tr style=\"text-align: right;\">\n",
       "      <th></th>\n",
       "      <th>NumeroDocumeto</th>\n",
       "      <th>empenho</th>\n",
       "      <th>data</th>\n",
       "      <th>municipio</th>\n",
       "      <th>unidade</th>\n",
       "      <th>cd_Unidade</th>\n",
       "      <th>orgao</th>\n",
       "      <th>unidadeOrcamentaria</th>\n",
       "      <th>credor</th>\n",
       "      <th>valor</th>\n",
       "      <th>cd_Orgao</th>\n",
       "      <th>cd_UnidadeOrcamentaria</th>\n",
       "      <th>dataEmpenho</th>\n",
       "    </tr>\n",
       "  </thead>\n",
       "  <tbody>\n",
       "    <tr>\n",
       "      <th>102</th>\n",
       "      <td>07613-20-PMFS</td>\n",
       "      <td>20000148</td>\n",
       "      <td>2020-07-02 00:00:00.000</td>\n",
       "      <td>FEIRA DE SANTANA</td>\n",
       "      <td>Prefeitura Municipal de FEIRA DE SANTANA</td>\n",
       "      <td>129</td>\n",
       "      <td>SEC.DESENVOLVIMENTO SOCIAL</td>\n",
       "      <td>SEC.DESENVOLVIMENTO SOCIAL</td>\n",
       "      <td>M E B SERVICOS E LOCAÇÕES LTDA.</td>\n",
       "      <td>189.17</td>\n",
       "      <td>12</td>\n",
       "      <td>1212</td>\n",
       "      <td>2020-02-05 00:00:00.000</td>\n",
       "    </tr>\n",
       "    <tr>\n",
       "      <th>362</th>\n",
       "      <td>05827-20-FMS</td>\n",
       "      <td>20000020</td>\n",
       "      <td>2020-07-03 00:00:00.000</td>\n",
       "      <td>FEIRA DE SANTANA</td>\n",
       "      <td>Prefeitura Municipal de FEIRA DE SANTANA</td>\n",
       "      <td>129</td>\n",
       "      <td>SECRETARIA DE SAUDE</td>\n",
       "      <td>SECRETARIA DE SAUDE</td>\n",
       "      <td>GEISELL MARTINEZ TORRES</td>\n",
       "      <td>1571.00</td>\n",
       "      <td>11</td>\n",
       "      <td>1111</td>\n",
       "      <td>2020-01-02 00:00:00.000</td>\n",
       "    </tr>\n",
       "    <tr>\n",
       "      <th>154</th>\n",
       "      <td>07744-20-PMFS</td>\n",
       "      <td>20000019</td>\n",
       "      <td>2020-07-02 00:00:00.000</td>\n",
       "      <td>FEIRA DE SANTANA</td>\n",
       "      <td>Prefeitura Municipal de FEIRA DE SANTANA</td>\n",
       "      <td>129</td>\n",
       "      <td>SEC.DESENVOLVIMENTO SOCIAL</td>\n",
       "      <td>SEC.DESENVOLVIMENTO SOCIAL</td>\n",
       "      <td>DIVALDE BEZERRA DA SILVA</td>\n",
       "      <td>2455.30</td>\n",
       "      <td>12</td>\n",
       "      <td>1212</td>\n",
       "      <td>2020-01-02 00:00:00.000</td>\n",
       "    </tr>\n",
       "  </tbody>\n",
       "</table>\n",
       "</div>"
      ],
      "text/plain": [
       "    NumeroDocumeto   empenho                     data         municipio  \\\n",
       "102  07613-20-PMFS  20000148  2020-07-02 00:00:00.000  FEIRA DE SANTANA   \n",
       "362   05827-20-FMS  20000020  2020-07-03 00:00:00.000  FEIRA DE SANTANA   \n",
       "154  07744-20-PMFS  20000019  2020-07-02 00:00:00.000  FEIRA DE SANTANA   \n",
       "\n",
       "                                      unidade  cd_Unidade  \\\n",
       "102  Prefeitura Municipal de FEIRA DE SANTANA         129   \n",
       "362  Prefeitura Municipal de FEIRA DE SANTANA         129   \n",
       "154  Prefeitura Municipal de FEIRA DE SANTANA         129   \n",
       "\n",
       "                          orgao         unidadeOrcamentaria  \\\n",
       "102  SEC.DESENVOLVIMENTO SOCIAL  SEC.DESENVOLVIMENTO SOCIAL   \n",
       "362         SECRETARIA DE SAUDE         SECRETARIA DE SAUDE   \n",
       "154  SEC.DESENVOLVIMENTO SOCIAL  SEC.DESENVOLVIMENTO SOCIAL   \n",
       "\n",
       "                              credor    valor  cd_Orgao  \\\n",
       "102  M E B SERVICOS E LOCAÇÕES LTDA.   189.17        12   \n",
       "362          GEISELL MARTINEZ TORRES  1571.00        11   \n",
       "154         DIVALDE BEZERRA DA SILVA  2455.30        12   \n",
       "\n",
       "     cd_UnidadeOrcamentaria              dataEmpenho  \n",
       "102                    1212  2020-02-05 00:00:00.000  \n",
       "362                    1111  2020-01-02 00:00:00.000  \n",
       "154                    1212  2020-01-02 00:00:00.000  "
      ]
     },
     "execution_count": 9,
     "metadata": {},
     "output_type": "execute_result"
    }
   ],
   "source": [
    "tcm_df.sample(3)"
   ]
  },
  {
   "cell_type": "code",
   "execution_count": 18,
   "metadata": {},
   "outputs": [
    {
     "data": {
      "text/plain": [
       "(2143, 13)"
      ]
     },
     "execution_count": 18,
     "metadata": {},
     "output_type": "execute_result"
    }
   ],
   "source": [
    "tcm_df.shape"
   ]
  },
  {
   "cell_type": "markdown",
   "metadata": {},
   "source": [
    "A partir do número de linhas podemos ver que os números não batem.\n",
    "Mas vamos tentar cruzar os códigos de empenho para ver o que encontramos.\n",
    "\n",
    "Antes de começarmos a explorar um pouco mais, vamos mapear os campos de cada arquivo:\n",
    "\n",
    "| Campo (o que é) | Prefeitura | TCM-BA        | Observações |\n",
    "| ------------- | ------------- | ------------- | ------------- |\n",
    "| Data | `Data de Publicacao` | `data` | Assumindo que essa é a data do pagamento e não a data do empenho |\n",
    "| Fase da despesa | `Fase` |  | |\n",
    "| Número da despesa | `Numero` | `empenho` | |\n",
    "| Número do processo | `N do processo` | `NumeroDocumeto` | Necessário confirmar |\n",
    "| Descrição da despesa | `Bem / Servico Prestado` |  | |\n",
    "| Credor | `Credor` | `credor` | |\n",
    "| CPF/CNPJ do credor | `CPF / CNPJ` | | Presente apenas na página de detalhes |\n",
    "| Valor | `Valor` | `valor` | |\n",
    "| Função | `Funcao` | | |\n",
    "| Subfunção | `Subfuncao` | | |\n",
    "| Natureza | `Natureza` | | |\n",
    "| Fonte | `Fonte` | | |\n",
    "| Modalidade | `Modalidade` |  | |\n",
    "\n",
    "\n",
    "## Match dos pagamentos\n",
    "\n",
    "Infelizmente não temos tantos campos assim para fazer o _match_ das despesas.\n",
    "Mas podemos tentar a partir do número da despesa e o número do processo.\n",
    "\n",
    "O número da despesa, representado por `NumeroDocumeto` no TCM-BA, vem seguido do órgão.\n",
    "Exemplo: `07613-20-PMFS`. Precisamos cortar essa parte para bater com o número nos dados da prefeitura."
   ]
  },
  {
   "cell_type": "code",
   "execution_count": 27,
   "metadata": {},
   "outputs": [
    {
     "data": {
      "text/plain": [
       "0       09149-20                      \n",
       "1       09150-20                      \n",
       "2       3107                          \n",
       "3       3106                          \n",
       "4       3105                          \n",
       "                     ...              \n",
       "2716    08717-20                      \n",
       "2717    08715-20                      \n",
       "2718    08888-20                      \n",
       "2719    08889-20                      \n",
       "2720    09910-20                      \n",
       "Name: Numero, Length: 2721, dtype: object"
      ]
     },
     "execution_count": 27,
     "metadata": {},
     "output_type": "execute_result"
    }
   ],
   "source": [
    "cityhall_df[\"Numero\"]"
   ]
  },
  {
   "cell_type": "code",
   "execution_count": 24,
   "metadata": {},
   "outputs": [
    {
     "data": {
      "text/plain": [
       "0        05705-20-FMS\n",
       "1        05734-20-FMS\n",
       "2        05716-20-FMS\n",
       "3        05744-20-FMS\n",
       "4        05714-20-FMS\n",
       "            ...      \n",
       "2138    09900-20-PMFS\n",
       "2139    09901-20-PMFS\n",
       "2140     06848-20-FMS\n",
       "2141     06847-20-FMS\n",
       "2142     06844-20-FMS\n",
       "Name: NumeroDocumeto, Length: 2143, dtype: object"
      ]
     },
     "execution_count": 24,
     "metadata": {},
     "output_type": "execute_result"
    }
   ],
   "source": [
    "tcm_df[\"NumeroDocumeto\"]"
   ]
  }
 ],
 "metadata": {
  "kernelspec": {
   "display_name": "Python 3",
   "language": "python",
   "name": "python3"
  },
  "language_info": {
   "codemirror_mode": {
    "name": "ipython",
    "version": 3
   },
   "file_extension": ".py",
   "mimetype": "text/x-python",
   "name": "python",
   "nbconvert_exporter": "python",
   "pygments_lexer": "ipython3",
   "version": "3.8.2"
  }
 },
 "nbformat": 4,
 "nbformat_minor": 4
}
